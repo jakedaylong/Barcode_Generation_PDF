{
 "cells": [
  {
   "cell_type": "code",
   "execution_count": 9,
   "metadata": {},
   "outputs": [
    {
     "name": "stdout",
     "output_type": "stream",
     "text": [
      "c:\\Users\\v-jdaylong\\OneDrive - Microsoft\\Documents\\Barcode_Test\\alias.png\n"
     ]
    }
   ],
   "source": [
    "import os\n",
    "\n",
    "dir = os.getcwd()\n",
    "\n",
    "alias_path = dir + '\\\\alias.png'\n",
    "print(alias_path)"
   ]
  },
  {
   "cell_type": "code",
   "execution_count": 3,
   "metadata": {},
   "outputs": [
    {
     "name": "stdout",
     "output_type": "stream",
     "text": [
      "C:\\Users\\v-jdaylong\\Documents\\Barcodes\\\\zip_email_barcode.png\n"
     ]
    }
   ],
   "source": [
    "import os\n",
    "\n",
    "user_path = os.path.expanduser(\"~\")\n",
    "print(user_path+r'\\Documents\\Barcodes\\zip_email_barcode.png')"
   ]
  }
 ],
 "metadata": {
  "kernelspec": {
   "display_name": "Python 3",
   "language": "python",
   "name": "python3"
  },
  "language_info": {
   "codemirror_mode": {
    "name": "ipython",
    "version": 3
   },
   "file_extension": ".py",
   "mimetype": "text/x-python",
   "name": "python",
   "nbconvert_exporter": "python",
   "pygments_lexer": "ipython3",
   "version": "3.10.9"
  },
  "orig_nbformat": 4,
  "vscode": {
   "interpreter": {
    "hash": "d22c7248f8386920b9e801aa325250b6f3fb33caaf7556a3672f864bbeb79a88"
   }
  }
 },
 "nbformat": 4,
 "nbformat_minor": 2
}
